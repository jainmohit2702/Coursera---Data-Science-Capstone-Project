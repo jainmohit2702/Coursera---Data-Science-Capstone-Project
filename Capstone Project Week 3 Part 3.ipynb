{
 "cells": [
  {
   "cell_type": "markdown",
   "metadata": {},
   "source": [
    "<h1> Segmenting and Clustering Neighborhoods in Toronto <h1>"
   ]
  },
  {
   "cell_type": "markdown",
   "metadata": {},
   "source": [
    "<h3> Week 3 Part 1 of the Graded Assignment -  </h3>"
   ]
  },
  {
   "cell_type": "code",
   "execution_count": 1,
   "metadata": {},
   "outputs": [
    {
     "name": "stdout",
     "output_type": "stream",
     "text": [
      "Libraries imported.\n"
     ]
    }
   ],
   "source": [
    "# Importing the necessary python libraries : \n",
    "import numpy as np\n",
    "import pandas as pd\n",
    "pd.set_option('display.max_columns', None)\n",
    "pd.set_option('display.max_rows', None)\n",
    "\n",
    "import json\n",
    "\n",
    "from geopy.geocoders import Nominatim\n",
    "\n",
    "from bs4 import BeautifulSoup\n",
    "from urllib.request import urlopen\n",
    "import requests\n",
    "from pandas.io.json import json_normalize\n",
    "\n",
    "import matplotlib.cm as cm\n",
    "import matplotlib.colors as colors\n",
    "\n",
    "from sklearn.cluster import KMeans\n",
    "\n",
    "import folium\n",
    "\n",
    "print('Libraries imported.')"
   ]
  },
  {
   "cell_type": "markdown",
   "metadata": {},
   "source": [
    "<h3> Data Scraping </h3>"
   ]
  },
  {
   "cell_type": "code",
   "execution_count": 2,
   "metadata": {},
   "outputs": [],
   "source": [
    "URL = 'https://en.wikipedia.org/wiki/List_of_postal_codes_of_Canada:_M'\n",
    "page = urlopen(URL).read().decode('utf-8')\n",
    "beautiful_soup = BeautifulSoup(page, 'html.parser')\n",
    "\n",
    "wiki_table = beautiful_soup.body.table.tbody"
   ]
  },
  {
   "cell_type": "markdown",
   "metadata": {},
   "source": [
    "<h3> Extracting data from the table to the data frame </h3>"
   ]
  },
  {
   "cell_type": "code",
   "execution_count": 3,
   "metadata": {},
   "outputs": [],
   "source": [
    "def GetCell(element):\n",
    "    cells = element.find_all('td')\n",
    "    row = []\n",
    "    \n",
    "    for cell in cells:\n",
    "        if cell.a:            \n",
    "            if (cell.a.text):\n",
    "                row.append(cell.a.text)\n",
    "                continue\n",
    "        row.append(cell.string.strip())\n",
    "        \n",
    "    return row"
   ]
  },
  {
   "cell_type": "code",
   "execution_count": 4,
   "metadata": {},
   "outputs": [],
   "source": [
    "def GetRow():    \n",
    "    data = []  \n",
    "    \n",
    "    for tr in wiki_table.find_all('tr'):\n",
    "        row = GetCell(tr)\n",
    "        if len(row) != 3:\n",
    "            continue\n",
    "        data.append(row)        \n",
    "    \n",
    "    return data"
   ]
  },
  {
   "cell_type": "code",
   "execution_count": 5,
   "metadata": {},
   "outputs": [
    {
     "data": {
      "text/html": [
       "<div>\n",
       "<style scoped>\n",
       "    .dataframe tbody tr th:only-of-type {\n",
       "        vertical-align: middle;\n",
       "    }\n",
       "\n",
       "    .dataframe tbody tr th {\n",
       "        vertical-align: top;\n",
       "    }\n",
       "\n",
       "    .dataframe thead th {\n",
       "        text-align: right;\n",
       "    }\n",
       "</style>\n",
       "<table border=\"1\" class=\"dataframe\">\n",
       "  <thead>\n",
       "    <tr style=\"text-align: right;\">\n",
       "      <th></th>\n",
       "      <th>Postcode</th>\n",
       "      <th>Borough</th>\n",
       "      <th>Neighbourhood</th>\n",
       "    </tr>\n",
       "  </thead>\n",
       "  <tbody>\n",
       "    <tr>\n",
       "      <td>0</td>\n",
       "      <td>M1A</td>\n",
       "      <td>Not assigned</td>\n",
       "      <td>Not assigned</td>\n",
       "    </tr>\n",
       "    <tr>\n",
       "      <td>1</td>\n",
       "      <td>M2A</td>\n",
       "      <td>Not assigned</td>\n",
       "      <td>Not assigned</td>\n",
       "    </tr>\n",
       "    <tr>\n",
       "      <td>2</td>\n",
       "      <td>M3A</td>\n",
       "      <td>North York</td>\n",
       "      <td>Parkwoods</td>\n",
       "    </tr>\n",
       "    <tr>\n",
       "      <td>3</td>\n",
       "      <td>M4A</td>\n",
       "      <td>North York</td>\n",
       "      <td>Victoria Village</td>\n",
       "    </tr>\n",
       "    <tr>\n",
       "      <td>4</td>\n",
       "      <td>M5A</td>\n",
       "      <td>Downtown Toronto</td>\n",
       "      <td>Regent Park, Harbourfront</td>\n",
       "    </tr>\n",
       "  </tbody>\n",
       "</table>\n",
       "</div>"
      ],
      "text/plain": [
       "  Postcode           Borough              Neighbourhood\n",
       "0      M1A      Not assigned               Not assigned\n",
       "1      M2A      Not assigned               Not assigned\n",
       "2      M3A        North York                  Parkwoods\n",
       "3      M4A        North York           Victoria Village\n",
       "4      M5A  Downtown Toronto  Regent Park, Harbourfront"
      ]
     },
     "execution_count": 5,
     "metadata": {},
     "output_type": "execute_result"
    }
   ],
   "source": [
    "data = GetRow()\n",
    "columns = ['Postcode', 'Borough', 'Neighbourhood']\n",
    "df = pd.DataFrame(data, columns=columns)\n",
    "df.head()\n"
   ]
  },
  {
   "cell_type": "code",
   "execution_count": 6,
   "metadata": {},
   "outputs": [
    {
     "data": {
      "text/plain": [
       "(180, 3)"
      ]
     },
     "execution_count": 6,
     "metadata": {},
     "output_type": "execute_result"
    }
   ],
   "source": [
    "df.shape"
   ]
  },
  {
   "cell_type": "markdown",
   "metadata": {},
   "source": [
    "<h3>Cleaning the dataframe</h3>"
   ]
  },
  {
   "cell_type": "code",
   "execution_count": 7,
   "metadata": {},
   "outputs": [
    {
     "data": {
      "text/html": [
       "<div>\n",
       "<style scoped>\n",
       "    .dataframe tbody tr th:only-of-type {\n",
       "        vertical-align: middle;\n",
       "    }\n",
       "\n",
       "    .dataframe tbody tr th {\n",
       "        vertical-align: top;\n",
       "    }\n",
       "\n",
       "    .dataframe thead th {\n",
       "        text-align: right;\n",
       "    }\n",
       "</style>\n",
       "<table border=\"1\" class=\"dataframe\">\n",
       "  <thead>\n",
       "    <tr style=\"text-align: right;\">\n",
       "      <th></th>\n",
       "      <th>Postcode</th>\n",
       "      <th>Borough</th>\n",
       "      <th>Neighbourhood</th>\n",
       "    </tr>\n",
       "  </thead>\n",
       "  <tbody>\n",
       "    <tr>\n",
       "      <td>0</td>\n",
       "      <td>M1B</td>\n",
       "      <td>Scarborough</td>\n",
       "      <td>Malvern, Rouge</td>\n",
       "    </tr>\n",
       "    <tr>\n",
       "      <td>1</td>\n",
       "      <td>M1C</td>\n",
       "      <td>Scarborough</td>\n",
       "      <td>Rouge Hill, Port Union, Highland Creek</td>\n",
       "    </tr>\n",
       "    <tr>\n",
       "      <td>2</td>\n",
       "      <td>M1E</td>\n",
       "      <td>Scarborough</td>\n",
       "      <td>Guildwood, Morningside, West Hill</td>\n",
       "    </tr>\n",
       "    <tr>\n",
       "      <td>3</td>\n",
       "      <td>M1G</td>\n",
       "      <td>Scarborough</td>\n",
       "      <td>Woburn</td>\n",
       "    </tr>\n",
       "    <tr>\n",
       "      <td>4</td>\n",
       "      <td>M1H</td>\n",
       "      <td>Scarborough</td>\n",
       "      <td>Cedarbrae</td>\n",
       "    </tr>\n",
       "  </tbody>\n",
       "</table>\n",
       "</div>"
      ],
      "text/plain": [
       "  Postcode      Borough                           Neighbourhood\n",
       "0      M1B  Scarborough                          Malvern, Rouge\n",
       "1      M1C  Scarborough  Rouge Hill, Port Union, Highland Creek\n",
       "2      M1E  Scarborough       Guildwood, Morningside, West Hill\n",
       "3      M1G  Scarborough                                  Woburn\n",
       "4      M1H  Scarborough                               Cedarbrae"
      ]
     },
     "execution_count": 7,
     "metadata": {},
     "output_type": "execute_result"
    }
   ],
   "source": [
    "df_1 = df[df.Borough != 'Not assigned']\n",
    "df_1 = df_1.sort_values(by=['Postcode','Borough'])\n",
    "\n",
    "df_1.reset_index(inplace=True)\n",
    "df_1.drop('index',axis=1,inplace=True)\n",
    "\n",
    "df_1.head()"
   ]
  },
  {
   "cell_type": "code",
   "execution_count": 8,
   "metadata": {},
   "outputs": [],
   "source": [
    "df_postcodes = df_1['Postcode']\n",
    "df_postcodes.drop_duplicates(inplace=True)\n",
    "df_2 = pd.DataFrame(df_postcodes)\n",
    "df_2['Borough'] = '';\n",
    "df_2['Neighbourhood'] = '';\n",
    "\n",
    "\n",
    "df_2.reset_index(inplace=True)\n",
    "df_2.drop('index', axis=1, inplace=True)\n",
    "df_1.reset_index(inplace=True)\n",
    "df_1.drop('index', axis=1, inplace=True)\n",
    "\n",
    "for i in df_2.index:\n",
    "    for j in df_1.index:\n",
    "        if df_2.iloc[i, 0] == df_1.iloc[j, 0]:\n",
    "            df_2.iloc[i, 1] = df_1.iloc[j, 1]\n",
    "            df_2.iloc[i, 2] = df_2.iloc[i, 2] + ',' + df_1.iloc[j, 2]\n",
    "            \n",
    "for i in df_2.index:\n",
    "    s = df_2.iloc[i, 2]\n",
    "    if s[0] == ',':\n",
    "        s =s [1:]\n",
    "    df_2.iloc[i,2 ] = s"
   ]
  },
  {
   "cell_type": "code",
   "execution_count": 9,
   "metadata": {},
   "outputs": [
    {
     "data": {
      "text/plain": [
       "(103, 3)"
      ]
     },
     "execution_count": 9,
     "metadata": {},
     "output_type": "execute_result"
    }
   ],
   "source": [
    "df_2.shape"
   ]
  },
  {
   "cell_type": "markdown",
   "metadata": {},
   "source": [
    "<h3> End of Week 3 Part 1 </h3> "
   ]
  },
  {
   "cell_type": "markdown",
   "metadata": {},
   "source": [
    "<h1> Week 3 Part 2 of the Graded Assignment -  </h1> "
   ]
  },
  {
   "cell_type": "markdown",
   "metadata": {},
   "source": [
    "<h3>Adding the Geospatial data to the data frame </h3>"
   ]
  },
  {
   "cell_type": "code",
   "execution_count": 10,
   "metadata": {},
   "outputs": [
    {
     "data": {
      "text/html": [
       "<div>\n",
       "<style scoped>\n",
       "    .dataframe tbody tr th:only-of-type {\n",
       "        vertical-align: middle;\n",
       "    }\n",
       "\n",
       "    .dataframe tbody tr th {\n",
       "        vertical-align: top;\n",
       "    }\n",
       "\n",
       "    .dataframe thead th {\n",
       "        text-align: right;\n",
       "    }\n",
       "</style>\n",
       "<table border=\"1\" class=\"dataframe\">\n",
       "  <thead>\n",
       "    <tr style=\"text-align: right;\">\n",
       "      <th></th>\n",
       "      <th>Postal Code</th>\n",
       "      <th>Latitude</th>\n",
       "      <th>Longitude</th>\n",
       "    </tr>\n",
       "  </thead>\n",
       "  <tbody>\n",
       "    <tr>\n",
       "      <td>0</td>\n",
       "      <td>M1B</td>\n",
       "      <td>43.806686</td>\n",
       "      <td>-79.194353</td>\n",
       "    </tr>\n",
       "    <tr>\n",
       "      <td>1</td>\n",
       "      <td>M1C</td>\n",
       "      <td>43.784535</td>\n",
       "      <td>-79.160497</td>\n",
       "    </tr>\n",
       "    <tr>\n",
       "      <td>2</td>\n",
       "      <td>M1E</td>\n",
       "      <td>43.763573</td>\n",
       "      <td>-79.188711</td>\n",
       "    </tr>\n",
       "    <tr>\n",
       "      <td>3</td>\n",
       "      <td>M1G</td>\n",
       "      <td>43.770992</td>\n",
       "      <td>-79.216917</td>\n",
       "    </tr>\n",
       "    <tr>\n",
       "      <td>4</td>\n",
       "      <td>M1H</td>\n",
       "      <td>43.773136</td>\n",
       "      <td>-79.239476</td>\n",
       "    </tr>\n",
       "  </tbody>\n",
       "</table>\n",
       "</div>"
      ],
      "text/plain": [
       "  Postal Code   Latitude  Longitude\n",
       "0         M1B  43.806686 -79.194353\n",
       "1         M1C  43.784535 -79.160497\n",
       "2         M1E  43.763573 -79.188711\n",
       "3         M1G  43.770992 -79.216917\n",
       "4         M1H  43.773136 -79.239476"
      ]
     },
     "execution_count": 10,
     "metadata": {},
     "output_type": "execute_result"
    }
   ],
   "source": [
    "df_2['Latitude'] = '0';\n",
    "df_2['Longitude'] = '0';\n",
    "\n",
    "df_geo = pd.read_csv('Geospatial_Coordinates.csv')\n",
    "df_geo.head()"
   ]
  },
  {
   "cell_type": "code",
   "execution_count": 11,
   "metadata": {},
   "outputs": [
    {
     "data": {
      "text/html": [
       "<div>\n",
       "<style scoped>\n",
       "    .dataframe tbody tr th:only-of-type {\n",
       "        vertical-align: middle;\n",
       "    }\n",
       "\n",
       "    .dataframe tbody tr th {\n",
       "        vertical-align: top;\n",
       "    }\n",
       "\n",
       "    .dataframe thead th {\n",
       "        text-align: right;\n",
       "    }\n",
       "</style>\n",
       "<table border=\"1\" class=\"dataframe\">\n",
       "  <thead>\n",
       "    <tr style=\"text-align: right;\">\n",
       "      <th></th>\n",
       "      <th>Postcode</th>\n",
       "      <th>Borough</th>\n",
       "      <th>Neighbourhood</th>\n",
       "      <th>Latitude</th>\n",
       "      <th>Longitude</th>\n",
       "    </tr>\n",
       "  </thead>\n",
       "  <tbody>\n",
       "    <tr>\n",
       "      <td>0</td>\n",
       "      <td>M1B</td>\n",
       "      <td>Scarborough</td>\n",
       "      <td>Malvern, Rouge</td>\n",
       "      <td>43.8067</td>\n",
       "      <td>-79.1944</td>\n",
       "    </tr>\n",
       "    <tr>\n",
       "      <td>1</td>\n",
       "      <td>M1C</td>\n",
       "      <td>Scarborough</td>\n",
       "      <td>Rouge Hill, Port Union, Highland Creek</td>\n",
       "      <td>43.7845</td>\n",
       "      <td>-79.1605</td>\n",
       "    </tr>\n",
       "    <tr>\n",
       "      <td>2</td>\n",
       "      <td>M1E</td>\n",
       "      <td>Scarborough</td>\n",
       "      <td>Guildwood, Morningside, West Hill</td>\n",
       "      <td>43.7636</td>\n",
       "      <td>-79.1887</td>\n",
       "    </tr>\n",
       "    <tr>\n",
       "      <td>3</td>\n",
       "      <td>M1G</td>\n",
       "      <td>Scarborough</td>\n",
       "      <td>Woburn</td>\n",
       "      <td>43.771</td>\n",
       "      <td>-79.2169</td>\n",
       "    </tr>\n",
       "    <tr>\n",
       "      <td>4</td>\n",
       "      <td>M1H</td>\n",
       "      <td>Scarborough</td>\n",
       "      <td>Cedarbrae</td>\n",
       "      <td>43.7731</td>\n",
       "      <td>-79.2395</td>\n",
       "    </tr>\n",
       "  </tbody>\n",
       "</table>\n",
       "</div>"
      ],
      "text/plain": [
       "  Postcode      Borough                           Neighbourhood Latitude  \\\n",
       "0      M1B  Scarborough                          Malvern, Rouge  43.8067   \n",
       "1      M1C  Scarborough  Rouge Hill, Port Union, Highland Creek  43.7845   \n",
       "2      M1E  Scarborough       Guildwood, Morningside, West Hill  43.7636   \n",
       "3      M1G  Scarborough                                  Woburn   43.771   \n",
       "4      M1H  Scarborough                               Cedarbrae  43.7731   \n",
       "\n",
       "  Longitude  \n",
       "0  -79.1944  \n",
       "1  -79.1605  \n",
       "2  -79.1887  \n",
       "3  -79.2169  \n",
       "4  -79.2395  "
      ]
     },
     "execution_count": 11,
     "metadata": {},
     "output_type": "execute_result"
    }
   ],
   "source": [
    "for i in df_2.index:\n",
    "    for j in df_geo.index:\n",
    "        if df_2.iloc[i, 0] == df_geo.iloc[j, 0]:\n",
    "            df_2.iloc[i, 3] = df_geo.iloc[j, 1]\n",
    "            df_2.iloc[i, 4] = df_geo.iloc[j, 2]\n",
    "            \n",
    "df_2.head()"
   ]
  },
  {
   "cell_type": "markdown",
   "metadata": {},
   "source": [
    "<h3> End of Week 3 Part 2 </h3> "
   ]
  },
  {
   "cell_type": "markdown",
   "metadata": {},
   "source": [
    "<h1> Week 3 Part 3 of the Graded Assignment -  </h1> "
   ]
  },
  {
   "cell_type": "markdown",
   "metadata": {},
   "source": [
    "<h3>Clustering the neighborhoods in Toronto</h3>"
   ]
  },
  {
   "cell_type": "code",
   "execution_count": 12,
   "metadata": {},
   "outputs": [
    {
     "data": {
      "text/html": [
       "<div>\n",
       "<style scoped>\n",
       "    .dataframe tbody tr th:only-of-type {\n",
       "        vertical-align: middle;\n",
       "    }\n",
       "\n",
       "    .dataframe tbody tr th {\n",
       "        vertical-align: top;\n",
       "    }\n",
       "\n",
       "    .dataframe thead th {\n",
       "        text-align: right;\n",
       "    }\n",
       "</style>\n",
       "<table border=\"1\" class=\"dataframe\">\n",
       "  <thead>\n",
       "    <tr style=\"text-align: right;\">\n",
       "      <th></th>\n",
       "      <th>Postcode</th>\n",
       "      <th>Borough</th>\n",
       "      <th>Neighbourhood</th>\n",
       "      <th>Latitude</th>\n",
       "      <th>Longitude</th>\n",
       "    </tr>\n",
       "  </thead>\n",
       "  <tbody>\n",
       "    <tr>\n",
       "      <td>37</td>\n",
       "      <td>M4E</td>\n",
       "      <td>East Toronto</td>\n",
       "      <td>The Beaches</td>\n",
       "      <td>43.6764</td>\n",
       "      <td>-79.293</td>\n",
       "    </tr>\n",
       "    <tr>\n",
       "      <td>41</td>\n",
       "      <td>M4K</td>\n",
       "      <td>East Toronto</td>\n",
       "      <td>The Danforth West, Riverdale</td>\n",
       "      <td>43.6796</td>\n",
       "      <td>-79.3522</td>\n",
       "    </tr>\n",
       "    <tr>\n",
       "      <td>42</td>\n",
       "      <td>M4L</td>\n",
       "      <td>East Toronto</td>\n",
       "      <td>India Bazaar, The Beaches West</td>\n",
       "      <td>43.669</td>\n",
       "      <td>-79.3156</td>\n",
       "    </tr>\n",
       "    <tr>\n",
       "      <td>43</td>\n",
       "      <td>M4M</td>\n",
       "      <td>East Toronto</td>\n",
       "      <td>Studio District</td>\n",
       "      <td>43.6595</td>\n",
       "      <td>-79.3409</td>\n",
       "    </tr>\n",
       "    <tr>\n",
       "      <td>44</td>\n",
       "      <td>M4N</td>\n",
       "      <td>Central Toronto</td>\n",
       "      <td>Lawrence Park</td>\n",
       "      <td>43.728</td>\n",
       "      <td>-79.3888</td>\n",
       "    </tr>\n",
       "  </tbody>\n",
       "</table>\n",
       "</div>"
      ],
      "text/plain": [
       "   Postcode          Borough                   Neighbourhood Latitude  \\\n",
       "37      M4E     East Toronto                     The Beaches  43.6764   \n",
       "41      M4K     East Toronto    The Danforth West, Riverdale  43.6796   \n",
       "42      M4L     East Toronto  India Bazaar, The Beaches West   43.669   \n",
       "43      M4M     East Toronto                 Studio District  43.6595   \n",
       "44      M4N  Central Toronto                   Lawrence Park   43.728   \n",
       "\n",
       "   Longitude  \n",
       "37   -79.293  \n",
       "41  -79.3522  \n",
       "42  -79.3156  \n",
       "43  -79.3409  \n",
       "44  -79.3888  "
      ]
     },
     "execution_count": 12,
     "metadata": {},
     "output_type": "execute_result"
    }
   ],
   "source": [
    "df3 = df_2.copy()\n",
    "df3 = df3[df_2.Borough.str.contains(\"Toronto\")]\n",
    "df3.head()"
   ]
  },
  {
   "cell_type": "code",
   "execution_count": 13,
   "metadata": {},
   "outputs": [
    {
     "data": {
      "text/html": [
       "<div style=\"width:100%;\"><div style=\"position:relative;width:100%;height:0;padding-bottom:60%;\"><iframe src=\"about:blank\" style=\"position:absolute;width:100%;height:100%;left:0;top:0;border:none !important;\" data-html=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 onload=\"this.contentDocument.open();this.contentDocument.write(atob(this.getAttribute('data-html')));this.contentDocument.close();\" allowfullscreen webkitallowfullscreen mozallowfullscreen></iframe></div></div>"
      ],
      "text/plain": [
       "<folium.folium.Map at 0x1096fb60648>"
      ]
     },
     "execution_count": 13,
     "metadata": {},
     "output_type": "execute_result"
    }
   ],
   "source": [
    "toronto_map = folium.Map(location=[43.65, -79.4], zoom_start=12)\n",
    "\n",
    "X = df3['Latitude']\n",
    "Y = df3['Longitude']\n",
    "Z = np.stack((X, Y), axis=1)\n",
    "\n",
    "kmeans = KMeans(n_clusters=4, random_state=0).fit(Z)\n",
    "\n",
    "clusters = kmeans.labels_\n",
    "colors = ['red', 'green', 'blue', 'yellow']\n",
    "df3['Cluster'] = clusters\n",
    "\n",
    "for latitude, longitude, borough, cluster in zip(df3['Latitude'], df3['Longitude'], df3['Borough'], df3['Cluster']):\n",
    "    label = folium.Popup(borough, parse_html=True)\n",
    "    folium.CircleMarker(\n",
    "        [latitude, longitude],\n",
    "        radius=5,\n",
    "        popup=label,\n",
    "        color='black',\n",
    "        fill=True,\n",
    "        fill_color=colors[cluster],\n",
    "        fill_opacity=0.7).add_to(toronto_map)  \n",
    "\n",
    "toronto_map"
   ]
  },
  {
   "cell_type": "markdown",
   "metadata": {},
   "source": [
    "<h3> End of Week 3 Part 3 </h3> \n"
   ]
  }
 ],
 "metadata": {
  "kernelspec": {
   "display_name": "Python 3",
   "language": "python",
   "name": "python3"
  },
  "language_info": {
   "codemirror_mode": {
    "name": "ipython",
    "version": 3
   },
   "file_extension": ".py",
   "mimetype": "text/x-python",
   "name": "python",
   "nbconvert_exporter": "python",
   "pygments_lexer": "ipython3",
   "version": "3.7.4"
  }
 },
 "nbformat": 4,
 "nbformat_minor": 2
}
